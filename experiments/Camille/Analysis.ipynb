{
 "cells": [
  {
   "cell_type": "markdown",
   "id": "cafe321b-bac1-4665-bea6-a0b19888916c",
   "metadata": {},
   "source": [
    "# 1. Sentiment of Song (lyrics) of album Vs Streaming scores "
   ]
  },
  {
   "cell_type": "code",
   "execution_count": null,
   "id": "f115a7d6-ab2d-4ca6-b8b2-c344c6e9ec1f",
   "metadata": {},
   "outputs": [],
   "source": []
  },
  {
   "cell_type": "code",
   "execution_count": null,
   "id": "de50a646-6f0d-460b-98c6-7f2366a97243",
   "metadata": {},
   "outputs": [],
   "source": []
  },
  {
   "cell_type": "code",
   "execution_count": null,
   "id": "387643de-ae21-4680-aa3c-48bd012bdcc7",
   "metadata": {},
   "outputs": [],
   "source": []
  },
  {
   "cell_type": "code",
   "execution_count": null,
   "id": "f314d21c-88b6-43dd-815c-75b3ef7dc5aa",
   "metadata": {},
   "outputs": [],
   "source": []
  },
  {
   "cell_type": "code",
   "execution_count": null,
   "id": "66a86bec-9f46-4f49-999b-f2fc0a1c12f0",
   "metadata": {},
   "outputs": [],
   "source": []
  },
  {
   "cell_type": "markdown",
   "id": "87c1b3d0-3f17-4ac8-a6e5-1b831062d77e",
   "metadata": {},
   "source": [
    "# 2. Sentiment of Song (lyrics) of Artist  Vs Popularity"
   ]
  },
  {
   "cell_type": "code",
   "execution_count": null,
   "id": "83909f05-01f9-4319-8da3-cd9916cb830f",
   "metadata": {},
   "outputs": [],
   "source": []
  }
 ],
 "metadata": {
  "kernelspec": {
   "display_name": "Python 3 (ipykernel)",
   "language": "python",
   "name": "python3"
  },
  "language_info": {
   "codemirror_mode": {
    "name": "ipython",
    "version": 3
   },
   "file_extension": ".py",
   "mimetype": "text/x-python",
   "name": "python",
   "nbconvert_exporter": "python",
   "pygments_lexer": "ipython3",
   "version": "3.12.7"
  }
 },
 "nbformat": 4,
 "nbformat_minor": 5
}
