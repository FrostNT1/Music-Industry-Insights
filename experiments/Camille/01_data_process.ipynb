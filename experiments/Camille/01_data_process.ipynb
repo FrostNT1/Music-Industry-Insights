{
 "cells": [
  {
   "cell_type": "code",
   "execution_count": 5,
   "id": "4e41c98d-d3ee-4df3-b88d-05e3c1bcdd2c",
   "metadata": {},
   "outputs": [],
   "source": [
    "# Originator: Camille\n",
    "import os\n",
    "import pandas as pd\n",
    "current_path = os.getcwd()"
   ]
  },
  {
   "cell_type": "markdown",
   "id": "5da09027-dd29-4c85-9dd9-78ccb108f33c",
   "metadata": {},
   "source": [
    "# Loading Everyone's data"
   ]
  },
  {
   "cell_type": "code",
   "execution_count": 6,
   "id": "027968f8-12f5-4187-8139-46e77d3fb109",
   "metadata": {},
   "outputs": [
    {
     "name": "stdout",
     "output_type": "stream",
     "text": [
      "Loaded 'billboard_200_cleaned.csv' with 14400 rows and 21 columns.\n",
      "Loaded 'country_airplay_cleaned.csv' with 14754 rows and 13 columns.\n",
      "Loaded 'country_on-demand_streaming_cleaned.csv' with 14400 rows and 17 columns.\n",
      "Loaded 'current_country_albums_cleaned.csv' with 5412 rows and 14 columns.\n",
      "Loaded 'current_pop_albums_cleaned.csv' with 7247 rows and 14 columns.\n",
      "Loaded 'current_r&b_hip_hop_albums_cleaned.csv' with 14279 rows and 14 columns.\n",
      "Loaded 'current_rap_albums_cleaned.csv' with 7303 rows and 14 columns.\n",
      "Loaded 'current_rock_albums_cleaned.csv' with 3602 rows and 14 columns.\n",
      "Loaded 'dance_electronic_on-demand_cleaned.csv' with 14400 rows and 17 columns.\n",
      "Loaded 'heatseekers_cleaned.csv' with 10800 rows and 17 columns.\n",
      "Loaded 'pop_on-demand_streaming_cleaned.csv' with 14400 rows and 17 columns.\n",
      "Loaded 'r&b_hip_hop_airplay_cleaned.csv' with 14702 rows and 13 columns.\n",
      "Loaded 'r&b_hip_hop_albums_cleaned.csv' with 202 rows and 14 columns.\n",
      "Loaded 'r&b_hip_hop_on-demand_streaming_cleaned.csv' with 200 rows and 17 columns.\n",
      "Loaded 'rock_airplay_cleaned.csv' with 15456 rows and 13 columns.\n",
      "Loaded 'rock_on-demand_streaming_cleaned.csv' with 14400 rows and 17 columns.\n",
      "Loaded 'top_200_song_consumption_cleaned.csv' with 14197 rows and 19 columns.\n",
      "Loaded 'top_40_airplay_cleaned.csv' with 14708 rows and 13 columns.\n",
      "Loaded 'video_on-demand_streaming_cleaned.csv' with 14400 rows and 15 columns.\n"
     ]
    }
   ],
   "source": [
    "# Loading Beema's data\n",
    "b_path = os.path.join(os.getcwd(), \"../../raw_data/beema/cleaned_data/\")\n",
    "csv_files = [file for file in os.listdir(b_path) if file.endswith(\".csv\")]\n",
    "dataframes = {}\n",
    "for file in csv_files:\n",
    "    file_path = os.path.join(b_path, file)\n",
    "    df = pd.read_csv(file_path)\n",
    "    dataframes[file] = df\n",
    "    print(f\"Loaded '{file}' with {df.shape[0]} rows and {df.shape[1]} columns.\")"
   ]
  },
  {
   "cell_type": "code",
   "execution_count": 18,
   "id": "16544e15-c184-4a0f-ba8b-6c5717958b02",
   "metadata": {},
   "outputs": [
    {
     "name": "stdout",
     "output_type": "stream",
     "text": [
      "Loaded 'songs_with_attributes_and_lyrics.csv' with 955320 rows and 17 columns.\n",
      "Loaded 'spotify_aggregated_by_countries.csv' with 72 rows and 7 columns.\n",
      "Loaded 'top_spotify_songs.csv' with 7477 rows and 25 columns.\n",
      "Loaded 'universal_top_spotify_songs.csv' with 1475430 rows and 25 columns.\n"
     ]
    }
   ],
   "source": [
    "# Loading Camille's data\n",
    "c_path = os.path.join(os.getcwd(), \"../../raw_data/camille/\")\n",
    "csv_files2 = [file for file in os.listdir(c_path) if file.endswith(\".csv\")]\n",
    "sentiment_dataframes = {}\n",
    "for file in csv_files2:\n",
    "    file_path = os.path.join(c_path, file)\n",
    "    df = pd.read_csv(file_path)\n",
    "    sentiment_dataframes[file] = df\n",
    "\n",
    "    print(f\"Loaded '{file}' with {df.shape[0]} rows and {df.shape[1]} columns.\")"
   ]
  },
  {
   "cell_type": "code",
   "execution_count": 13,
   "id": "5226a13d-249b-434b-a9e0-2dc18aab9273",
   "metadata": {},
   "outputs": [
    {
     "name": "stdout",
     "output_type": "stream",
     "text": [
      "<class 'pandas.core.frame.DataFrame'>\n",
      "RangeIndex: 156422 entries, 0 to 156421\n",
      "Data columns (total 6 columns):\n",
      " #   Column      Non-Null Count   Dtype  \n",
      "---  ------      --------------   -----  \n",
      " 0   spotify_id  156422 non-null  object \n",
      " 1   name        156418 non-null  object \n",
      " 2   followers   156418 non-null  float64\n",
      " 3   popularity  156422 non-null  int64  \n",
      " 4   genres      156422 non-null  object \n",
      " 5   chart_hits  19641 non-null   object \n",
      "dtypes: float64(1), int64(1), object(4)\n",
      "memory usage: 7.2+ MB\n",
      "None\n"
     ]
    }
   ],
   "source": [
    "# Loading Shivam's data\n",
    "s_path = os.path.join(current_path, \"../../raw_data/shivam/raw_data/nodes.csv\")\n",
    "nodes_df = pd.read_csv(s_path)\n",
    "print(nodes_df.info())"
   ]
  },
  {
   "cell_type": "code",
   "execution_count": 14,
   "id": "e24d0cb4-f717-45cc-afc4-65e5839aaa9c",
   "metadata": {},
   "outputs": [],
   "source": [
    "#Process data for sentiment analysis\n",
    "sen_df = sentiment_dataframes['universal_top_spotify_songs.csv']\n",
    "sen_df['artists_clean'] = sen_df['artists'].str.lower().str.strip()\n",
    "nodes_df['name_clean'] = nodes_df['name'].str.lower().str.strip()\n",
    "merged_df = pd.merge(sen_df,nodes_df,left_on='artists_clean',right_on='name_clean',how='inner')"
   ]
  },
  {
   "cell_type": "code",
   "execution_count": 15,
   "id": "3c6ea38b-700c-4dd1-871e-cb089ececb0e",
   "metadata": {},
   "outputs": [
    {
     "name": "stdout",
     "output_type": "stream",
     "text": [
      "Processed DataFrame Info:\n",
      "<class 'pandas.core.frame.DataFrame'>\n",
      "RangeIndex: 944165 entries, 0 to 944164\n",
      "Data columns (total 25 columns):\n",
      " #   Column              Non-Null Count   Dtype  \n",
      "---  ------              --------------   -----  \n",
      " 0   songs               944053 non-null  object \n",
      " 1   artists             944053 non-null  object \n",
      " 2   daily_rank          944165 non-null  int64  \n",
      " 3   daily_movement      944165 non-null  int64  \n",
      " 4   weekly_movement     944165 non-null  int64  \n",
      " 5   country             929704 non-null  object \n",
      " 6   snapshot_date       944165 non-null  object \n",
      " 7   song_popularity     944165 non-null  int64  \n",
      " 8   album_name          943407 non-null  object \n",
      " 9   album_release_date  943569 non-null  object \n",
      " 10  danceability        944165 non-null  float64\n",
      " 11  energy              944165 non-null  float64\n",
      " 12  key                 944165 non-null  int64  \n",
      " 13  loudness            944165 non-null  float64\n",
      " 14  mode                944165 non-null  int64  \n",
      " 15  speechiness         944165 non-null  float64\n",
      " 16  acousticness        944165 non-null  float64\n",
      " 17  instrumentalness    944165 non-null  float64\n",
      " 18  liveness            944165 non-null  float64\n",
      " 19  valence             944165 non-null  float64\n",
      " 20  tempo               944165 non-null  float64\n",
      " 21  followers           944165 non-null  float64\n",
      " 22  artist_popularity   944165 non-null  int64  \n",
      " 23  genres              944165 non-null  object \n",
      " 24  chart_hits          709501 non-null  object \n",
      "dtypes: float64(10), int64(7), object(8)\n",
      "memory usage: 180.1+ MB\n",
      "None\n"
     ]
    }
   ],
   "source": [
    "# Simplify the data\n",
    "# 1. Remove unnecessary columns\n",
    "columns_to_drop = [\"spotify_id_x\", \"is_explicit\", \"duration_ms\", \"time_signature\",\"artists_clean\", \"spotify_id_y\", \"name_y\", \"name_clean\"]\n",
    "processed_df = merged_df.drop(columns=columns_to_drop)\n",
    "\n",
    "columns_to_rename = {\n",
    "    \"name_x\": \"songs\",\n",
    "    \"popularity_x\": \"song_popularity\",\n",
    "    \"popularity_y\": \"artist_popularity\"\n",
    "}\n",
    "processed_df = processed_df.rename(columns=columns_to_rename)\n",
    "\n",
    "print(\"Processed DataFrame Info:\")\n",
    "print(processed_df.info())"
   ]
  },
  {
   "cell_type": "code",
   "execution_count": 16,
   "id": "c688e77d-ad42-484d-9e9f-0f4d17a6dce4",
   "metadata": {},
   "outputs": [
    {
     "name": "stdout",
     "output_type": "stream",
     "text": [
      "Deduplicated DataFrame Info:\n",
      "<class 'pandas.core.frame.DataFrame'>\n",
      "Index: 7477 entries, 940086 to 0\n",
      "Data columns (total 25 columns):\n",
      " #   Column              Non-Null Count  Dtype         \n",
      "---  ------              --------------  -----         \n",
      " 0   songs               7476 non-null   object        \n",
      " 1   artists             7476 non-null   object        \n",
      " 2   daily_rank          7477 non-null   int64         \n",
      " 3   daily_movement      7477 non-null   int64         \n",
      " 4   weekly_movement     7477 non-null   int64         \n",
      " 5   country             7474 non-null   object        \n",
      " 6   snapshot_date       7477 non-null   datetime64[ns]\n",
      " 7   song_popularity     7477 non-null   int64         \n",
      " 8   album_name          7471 non-null   object        \n",
      " 9   album_release_date  7472 non-null   object        \n",
      " 10  danceability        7477 non-null   float64       \n",
      " 11  energy              7477 non-null   float64       \n",
      " 12  key                 7477 non-null   int64         \n",
      " 13  loudness            7477 non-null   float64       \n",
      " 14  mode                7477 non-null   int64         \n",
      " 15  speechiness         7477 non-null   float64       \n",
      " 16  acousticness        7477 non-null   float64       \n",
      " 17  instrumentalness    7477 non-null   float64       \n",
      " 18  liveness            7477 non-null   float64       \n",
      " 19  valence             7477 non-null   float64       \n",
      " 20  tempo               7477 non-null   float64       \n",
      " 21  followers           7477 non-null   float64       \n",
      " 22  artist_popularity   7477 non-null   int64         \n",
      " 23  genres              7477 non-null   object        \n",
      " 24  chart_hits          6392 non-null   object        \n",
      "dtypes: datetime64[ns](1), float64(10), int64(7), object(7)\n",
      "memory usage: 1.5+ MB\n",
      "None\n"
     ]
    }
   ],
   "source": [
    "#2. Remove duplicate columns, keeping only the most recently updated data\n",
    "processed_df['snapshot_date'] = pd.to_datetime(processed_df['snapshot_date'], errors='coerce')\n",
    "deduplicated_df = processed_df.sort_values('snapshot_date').drop_duplicates(subset=['songs', 'artists'], keep='last')\n",
    "\n",
    "print(\"Deduplicated DataFrame Info:\")\n",
    "print(deduplicated_df.info())"
   ]
  },
  {
   "cell_type": "code",
   "execution_count": 17,
   "id": "9e3f026f-1f00-4f16-8ef5-502e7307b50e",
   "metadata": {},
   "outputs": [],
   "source": [
    "# Save the data for analysis to enable repeated use\n",
    "c_path1 = os.path.join(os.getcwd(), \"../../raw_data/camille/\")\n",
    "deduplicated_df.to_csv(os.path.join(c_path1,\"top_spotify_songs.csv\"), index=False)"
   ]
  },
  {
   "cell_type": "code",
   "execution_count": 19,
   "id": "eeb497e6-0e1a-4cfa-bed0-c14e92de0c12",
   "metadata": {},
   "outputs": [
    {
     "name": "stdout",
     "output_type": "stream",
     "text": [
      "<class 'pandas.core.frame.DataFrame'>\n",
      "RangeIndex: 955320 entries, 0 to 955319\n",
      "Data columns (total 17 columns):\n",
      " #   Column            Non-Null Count   Dtype  \n",
      "---  ------            --------------   -----  \n",
      " 0   id                955320 non-null  object \n",
      " 1   name              955309 non-null  object \n",
      " 2   album_name        385557 non-null  object \n",
      " 3   artists           955318 non-null  object \n",
      " 4   danceability      955320 non-null  float64\n",
      " 5   energy            955320 non-null  float64\n",
      " 6   key               955320 non-null  object \n",
      " 7   loudness          955320 non-null  float64\n",
      " 8   mode              955320 non-null  object \n",
      " 9   speechiness       955320 non-null  float64\n",
      " 10  acousticness      955320 non-null  float64\n",
      " 11  instrumentalness  955320 non-null  float64\n",
      " 12  liveness          955320 non-null  float64\n",
      " 13  valence           955320 non-null  float64\n",
      " 14  tempo             955320 non-null  float64\n",
      " 15  duration_ms       955320 non-null  float64\n",
      " 16  lyrics            955307 non-null  object \n",
      "dtypes: float64(10), object(7)\n",
      "memory usage: 123.9+ MB\n"
     ]
    }
   ],
   "source": [
    "lyrics_df = sentiment_dataframes['songs_with_attributes_and_lyrics.csv']\n",
    "lyrics_df.info()"
   ]
  },
  {
   "cell_type": "code",
   "execution_count": 21,
   "id": "25d9410f-6f0a-4bee-a1be-93edae357145",
   "metadata": {},
   "outputs": [],
   "source": [
    "lyrics_df2 = lyrics_df[['name','artists','lyrics']]"
   ]
  },
  {
   "cell_type": "code",
   "execution_count": 23,
   "id": "55f8a061-4401-4e9f-bd49-c36d0e96a02c",
   "metadata": {},
   "outputs": [
    {
     "name": "stdout",
     "output_type": "stream",
     "text": [
      "<class 'pandas.core.frame.DataFrame'>\n",
      "RangeIndex: 1440 entries, 0 to 1439\n",
      "Data columns (total 27 columns):\n",
      " #   Column              Non-Null Count  Dtype         \n",
      "---  ------              --------------  -----         \n",
      " 0   songs               1438 non-null   object        \n",
      " 1   artists             1438 non-null   object        \n",
      " 2   daily_rank          1440 non-null   int64         \n",
      " 3   daily_movement      1440 non-null   int64         \n",
      " 4   weekly_movement     1440 non-null   int64         \n",
      " 5   country             1440 non-null   object        \n",
      " 6   snapshot_date       1440 non-null   datetime64[ns]\n",
      " 7   song_popularity     1440 non-null   int64         \n",
      " 8   album_name          1437 non-null   object        \n",
      " 9   album_release_date  1437 non-null   object        \n",
      " 10  danceability        1440 non-null   float64       \n",
      " 11  energy              1440 non-null   float64       \n",
      " 12  key                 1440 non-null   int64         \n",
      " 13  loudness            1440 non-null   float64       \n",
      " 14  mode                1440 non-null   int64         \n",
      " 15  speechiness         1440 non-null   float64       \n",
      " 16  acousticness        1440 non-null   float64       \n",
      " 17  instrumentalness    1440 non-null   float64       \n",
      " 18  liveness            1440 non-null   float64       \n",
      " 19  valence             1440 non-null   float64       \n",
      " 20  tempo               1440 non-null   float64       \n",
      " 21  followers           1440 non-null   float64       \n",
      " 22  artist_popularity   1440 non-null   int64         \n",
      " 23  genres              1440 non-null   object        \n",
      " 24  chart_hits          1395 non-null   object        \n",
      " 25  name                1438 non-null   object        \n",
      " 26  lyrics              1440 non-null   object        \n",
      "dtypes: datetime64[ns](1), float64(10), int64(7), object(9)\n",
      "memory usage: 303.9+ KB\n"
     ]
    }
   ],
   "source": [
    "lyrics = pd.merge(deduplicated_df,lyrics_df2,left_on=['songs','artists'],right_on=['name','artists'],how='inner')\n",
    "lyrics.info()"
   ]
  },
  {
   "cell_type": "code",
   "execution_count": 24,
   "id": "4975795d-7d80-42c3-a760-c4144d52e5b2",
   "metadata": {},
   "outputs": [],
   "source": [
    "lyrics.to_csv(os.path.join(c_path1,\"top_spotify_songs_lyrics.csv\"), index=False)"
   ]
  },
  {
   "cell_type": "code",
   "execution_count": null,
   "id": "c2d7beec-0ca0-4d0e-9ed9-160b6baca6ca",
   "metadata": {},
   "outputs": [],
   "source": []
  }
 ],
 "metadata": {
  "kernelspec": {
   "display_name": "Python 3 (ipykernel)",
   "language": "python",
   "name": "python3"
  },
  "language_info": {
   "codemirror_mode": {
    "name": "ipython",
    "version": 3
   },
   "file_extension": ".py",
   "mimetype": "text/x-python",
   "name": "python",
   "nbconvert_exporter": "python",
   "pygments_lexer": "ipython3",
   "version": "3.12.7"
  }
 },
 "nbformat": 4,
 "nbformat_minor": 5
}
