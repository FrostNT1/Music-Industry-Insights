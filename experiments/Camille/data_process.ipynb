{
 "cells": [
  {
   "cell_type": "code",
   "execution_count": 1,
   "id": "5456970d-d24d-423e-95b3-1a0c31970370",
   "metadata": {},
   "outputs": [
    {
     "data": {
      "text/plain": [
       "'D:\\\\jupyter_notebook\\\\eda_final\\\\Music-Industry-Insights\\\\experiments\\\\Camille'"
      ]
     },
     "execution_count": 1,
     "metadata": {},
     "output_type": "execute_result"
    }
   ],
   "source": [
    "pwd"
   ]
  },
  {
   "cell_type": "code",
   "execution_count": 2,
   "id": "4e41c98d-d3ee-4df3-b88d-05e3c1bcdd2c",
   "metadata": {},
   "outputs": [],
   "source": [
    "import os\n",
    "import pandas as pd\n",
    "\n",
    "current_path = os.getcwd()"
   ]
  },
  {
   "cell_type": "code",
   "execution_count": 4,
   "id": "027968f8-12f5-4187-8139-46e77d3fb109",
   "metadata": {},
   "outputs": [
    {
     "name": "stdout",
     "output_type": "stream",
     "text": [
      "Loaded 'billboard_200_cleaned.csv' with 14400 rows and 21 columns.\n",
      "Loaded 'country_airplay_cleaned.csv' with 14754 rows and 13 columns.\n",
      "Loaded 'country_on-demand_streaming_cleaned.csv' with 14400 rows and 17 columns.\n",
      "Loaded 'current_country_albums_cleaned.csv' with 5412 rows and 14 columns.\n",
      "Loaded 'current_pop_albums_cleaned.csv' with 7247 rows and 14 columns.\n",
      "Loaded 'current_r&b_hip_hop_albums_cleaned.csv' with 14279 rows and 14 columns.\n",
      "Loaded 'current_rap_albums_cleaned.csv' with 7303 rows and 14 columns.\n",
      "Loaded 'current_rock_albums_cleaned.csv' with 3602 rows and 14 columns.\n",
      "Loaded 'dance_electronic_on-demand_cleaned.csv' with 14400 rows and 17 columns.\n",
      "Loaded 'heatseekers_cleaned.csv' with 10800 rows and 17 columns.\n",
      "Loaded 'pop_on-demand_streaming_cleaned.csv' with 14400 rows and 17 columns.\n",
      "Loaded 'r&b_hip_hop_airplay_cleaned.csv' with 14702 rows and 13 columns.\n",
      "Loaded 'r&b_hip_hop_albums_cleaned.csv' with 202 rows and 14 columns.\n",
      "Loaded 'r&b_hip_hop_on-demand_streaming_cleaned.csv' with 200 rows and 17 columns.\n",
      "Loaded 'rock_airplay_cleaned.csv' with 15456 rows and 13 columns.\n",
      "Loaded 'rock_on-demand_streaming_cleaned.csv' with 14400 rows and 17 columns.\n",
      "Loaded 'top_200_song_consumption_cleaned.csv' with 14197 rows and 19 columns.\n",
      "Loaded 'top_40_airplay_cleaned.csv' with 14708 rows and 13 columns.\n",
      "Loaded 'video_on-demand_streaming_cleaned.csv' with 14400 rows and 15 columns.\n"
     ]
    }
   ],
   "source": [
    "b_path = os.path.join(os.getcwd(), \"../../raw_data/beema/cleaned_data/\")\n",
    "\n",
    "csv_files = [file for file in os.listdir(b_path) if file.endswith(\".csv\")]\n",
    "\n",
    "dataframes = {}\n",
    "for file in csv_files:\n",
    "    file_path = os.path.join(b_path, file)\n",
    "    df = pd.read_csv(file_path)\n",
    "    dataframes[file] = df\n",
    "\n",
    "    print(f\"Loaded '{file}' with {df.shape[0]} rows and {df.shape[1]} columns.\")"
   ]
  },
  {
   "cell_type": "code",
   "execution_count": 5,
   "id": "67365414-64b3-4a57-a7c1-6c997658510d",
   "metadata": {},
   "outputs": [
    {
     "name": "stdout",
     "output_type": "stream",
     "text": [
      "<class 'pandas.core.frame.DataFrame'>\n",
      "RangeIndex: 14400 entries, 0 to 14399\n",
      "Data columns (total 21 columns):\n",
      " #   Column                        Non-Null Count  Dtype  \n",
      "---  ------                        --------------  -----  \n",
      " 0   Rank                          14400 non-null  int64  \n",
      " 1   Album                         14400 non-null  object \n",
      " 2   Artist                        14400 non-null  object \n",
      " 3   Label Description             14364 non-null  object \n",
      " 4   Release Date                  14398 non-null  object \n",
      " 5   Label                         14380 non-null  object \n",
      " 6   Peak Position                 14400 non-null  int64  \n",
      " 7   Last Week Rank                13081 non-null  float64\n",
      " 8   Last 2 Week Rank              12416 non-null  float64\n",
      " 9   Weeks On Chart                14400 non-null  int64  \n",
      " 10  TW Total Activity             14400 non-null  int64  \n",
      " 11  % CHG                         13081 non-null  float64\n",
      " 12  LW Total Activity             13081 non-null  float64\n",
      " 13  TW Album Sales                14400 non-null  int64  \n",
      " 14  TW Song Sales                 14400 non-null  int64  \n",
      " 15  TW TEA                        14400 non-null  int64  \n",
      " 16  TW Audio Streaming Activity   14400 non-null  int64  \n",
      " 17  TW Video Streaming Activity   14400 non-null  int64  \n",
      " 18  TW Total SEA (Audio + Video)  14400 non-null  int64  \n",
      " 19  ATD                           14389 non-null  float64\n",
      " 20  week_of                       14400 non-null  object \n",
      "dtypes: float64(5), int64(10), object(6)\n",
      "memory usage: 2.3+ MB\n",
      "None\n"
     ]
    }
   ],
   "source": [
    "print(dataframes[\"billboard_200_cleaned.csv\"].info())"
   ]
  },
  {
   "cell_type": "code",
   "execution_count": 6,
   "id": "4f81a3c9-6857-461b-aa0b-63c75206a1c4",
   "metadata": {},
   "outputs": [
    {
     "name": "stdout",
     "output_type": "stream",
     "text": [
      "                     Album         Artist Release Date  Rank  \\\n",
      "0      One Thing At A Time  Morgan Wallen   03/03/2023     1   \n",
      "1  The World Ep.2 : Outlaw          Ateez   06/16/2023     2   \n",
      "2         A Gift & A Curse          Gunna   06/16/2023     3   \n",
      "3                Midnights   Taylor Swift   10/21/2022     4   \n",
      "4                      Sos            SZA   12/09/2022     5   \n",
      "\n",
      "   TW Total Activity  TW Album Sales  TW Song Sales  \\\n",
      "0             110127            4597          18982   \n",
      "1             105329          100605           2118   \n",
      "2              84942             855           1451   \n",
      "3              60159           11227           8904   \n",
      "4              47851            6350           2745   \n",
      "\n",
      "   TW Total SEA (Audio + Video)  Weeks On Chart     week_of  \n",
      "0                        103632              16  2023.06.22  \n",
      "1                          4512               1  2023.06.22  \n",
      "2                         83942               1  2023.06.22  \n",
      "3                         48042              35  2023.06.22  \n",
      "4                         41226              28  2023.06.22  \n"
     ]
    }
   ],
   "source": [
    "columns_to_use = [\n",
    "    \"Album\",\n",
    "    \"Artist\",\n",
    "    \"Release Date\",\n",
    "    \"Rank\", \n",
    "    \"TW Total Activity\", \n",
    "    \"TW Album Sales\", \n",
    "    \"TW Song Sales\", \n",
    "    \"TW Total SEA (Audio + Video)\", \n",
    "    \"Weeks On Chart\",\n",
    "    \"week_of\"\n",
    "]\n",
    "\n",
    "billboard_df = dataframes[\"billboard_200_cleaned.csv\"][columns_to_use]\n",
    "print(billboard_df.head())"
   ]
  },
  {
   "cell_type": "code",
   "execution_count": 11,
   "id": "16544e15-c184-4a0f-ba8b-6c5717958b02",
   "metadata": {},
   "outputs": [
    {
     "name": "stdout",
     "output_type": "stream",
     "text": [
      "Loaded 'songs_with_attributes_and_lyrics.csv' with 955320 rows and 17 columns.\n",
      "Loaded 'universal_top_spotify_songs.csv' with 1475430 rows and 25 columns.\n"
     ]
    }
   ],
   "source": [
    "c_path = os.path.join(os.getcwd(), \"../../raw_data/camille/\")\n",
    "\n",
    "csv_files2 = [file for file in os.listdir(c_path) if file.endswith(\".csv\")]\n",
    "\n",
    "sentiment_dataframes = {}\n",
    "for file in csv_files2:\n",
    "    file_path = os.path.join(c_path, file)\n",
    "    df = pd.read_csv(file_path)\n",
    "    sentiment_dataframes[file] = df\n",
    "\n",
    "    print(f\"Loaded '{file}' with {df.shape[0]} rows and {df.shape[1]} columns.\")"
   ]
  },
  {
   "cell_type": "code",
   "execution_count": 12,
   "id": "99947d99-3951-4750-b77c-5799e53c2b58",
   "metadata": {},
   "outputs": [
    {
     "name": "stdout",
     "output_type": "stream",
     "text": [
      "<class 'pandas.core.frame.DataFrame'>\n",
      "RangeIndex: 955320 entries, 0 to 955319\n",
      "Data columns (total 17 columns):\n",
      " #   Column            Non-Null Count   Dtype  \n",
      "---  ------            --------------   -----  \n",
      " 0   id                955320 non-null  object \n",
      " 1   name              955309 non-null  object \n",
      " 2   album_name        385557 non-null  object \n",
      " 3   artists           955318 non-null  object \n",
      " 4   danceability      955320 non-null  float64\n",
      " 5   energy            955320 non-null  float64\n",
      " 6   key               955320 non-null  object \n",
      " 7   loudness          955320 non-null  float64\n",
      " 8   mode              955320 non-null  object \n",
      " 9   speechiness       955320 non-null  float64\n",
      " 10  acousticness      955320 non-null  float64\n",
      " 11  instrumentalness  955320 non-null  float64\n",
      " 12  liveness          955320 non-null  float64\n",
      " 13  valence           955320 non-null  float64\n",
      " 14  tempo             955320 non-null  float64\n",
      " 15  duration_ms       955320 non-null  float64\n",
      " 16  lyrics            955307 non-null  object \n",
      "dtypes: float64(10), object(7)\n",
      "memory usage: 123.9+ MB\n"
     ]
    }
   ],
   "source": [
    "sentiment_dataframes['songs_with_attributes_and_lyrics.csv'].info()"
   ]
  },
  {
   "cell_type": "code",
   "execution_count": 19,
   "id": "c7b6f511-08d4-4091-bfc3-e9b592c0d650",
   "metadata": {},
   "outputs": [
    {
     "name": "stdout",
     "output_type": "stream",
     "text": [
      "              name       artists                              album_name  \\\n",
      "0                !  ['HELLYEAH']                              UNDEN!ABLE   \n",
      "1               !!       Yxngxr1                                     NaN   \n",
      "2  !!! - Interlude    ['Glowie']                       Where I Belong EP   \n",
      "3   !!De Repente!!   ['Rosendo']  Un Palo Al Agua (20 Grandes Canciones)   \n",
      "4   !!De Repente!!   ['Rosendo']                          Fuera De Lugar   \n",
      "\n",
      "                                              lyrics  danceability  energy  \\\n",
      "0  He said he came from Jamaica,\\n he owned a cou...         0.415  0.6050   \n",
      "1  Fucked a bitch, now she running with my kids\\n...         0.788  0.6480   \n",
      "2                     Oh, my God, I'm going crazy\\n          0.000  0.0354   \n",
      "3  Continuamente se extraña la gente si no puede ...         0.657  0.8820   \n",
      "4  Continuamente se extraña la gente si no puede ...         0.659  0.8930   \n",
      "\n",
      "   loudness  liveness  valence    tempo  \n",
      "0   -11.157    0.4710    0.193  100.059  \n",
      "1    -9.135    0.1760    0.287   79.998  \n",
      "2   -20.151    0.4790    0.000    0.000  \n",
      "3    -6.340    0.0474    0.939  123.588  \n",
      "4    -8.531    0.0534    0.951  123.600  \n"
     ]
    }
   ],
   "source": [
    "columns_to_use3 = [\n",
    "    \"name\",\n",
    "    \"artists\",\n",
    "    \"album_name\",\n",
    "    \"lyrics\", \n",
    "    \"danceability\",  \n",
    "    \"energy\", \n",
    "    \"loudness\", \n",
    "    \"liveness\",\n",
    "    \"valence\",\n",
    "    \"tempo\"\n",
    "]\n",
    "lyrics_song_df = sentiment_dataframes[\"songs_with_attributes_and_lyrics.csv\"][columns_to_use3]\n",
    "print(lyrics_song_df.head())"
   ]
  },
  {
   "cell_type": "code",
   "execution_count": 14,
   "id": "3ca5d4a8-efe8-4069-9c61-1d670bca365b",
   "metadata": {},
   "outputs": [
    {
     "name": "stdout",
     "output_type": "stream",
     "text": [
      "<class 'pandas.core.frame.DataFrame'>\n",
      "RangeIndex: 1475430 entries, 0 to 1475429\n",
      "Data columns (total 25 columns):\n",
      " #   Column              Non-Null Count    Dtype  \n",
      "---  ------              --------------    -----  \n",
      " 0   spotify_id          1475430 non-null  object \n",
      " 1   name                1475401 non-null  object \n",
      " 2   artists             1475402 non-null  object \n",
      " 3   daily_rank          1475430 non-null  int64  \n",
      " 4   daily_movement      1475430 non-null  int64  \n",
      " 5   weekly_movement     1475430 non-null  int64  \n",
      " 6   country             1455323 non-null  object \n",
      " 7   snapshot_date       1475430 non-null  object \n",
      " 8   popularity          1475430 non-null  int64  \n",
      " 9   is_explicit         1475430 non-null  bool   \n",
      " 10  duration_ms         1475430 non-null  int64  \n",
      " 11  album_name          1474755 non-null  object \n",
      " 12  album_release_date  1474918 non-null  object \n",
      " 13  danceability        1475430 non-null  float64\n",
      " 14  energy              1475430 non-null  float64\n",
      " 15  key                 1475430 non-null  int64  \n",
      " 16  loudness            1475430 non-null  float64\n",
      " 17  mode                1475430 non-null  int64  \n",
      " 18  speechiness         1475430 non-null  float64\n",
      " 19  acousticness        1475430 non-null  float64\n",
      " 20  instrumentalness    1475430 non-null  float64\n",
      " 21  liveness            1475430 non-null  float64\n",
      " 22  valence             1475430 non-null  float64\n",
      " 23  tempo               1475430 non-null  float64\n",
      " 24  time_signature      1475430 non-null  int64  \n",
      "dtypes: bool(1), float64(9), int64(8), object(7)\n",
      "memory usage: 271.6+ MB\n"
     ]
    }
   ],
   "source": [
    "sentiment_dataframes['universal_top_spotify_songs.csv'].info()"
   ]
  },
  {
   "cell_type": "code",
   "execution_count": 13,
   "id": "5226a13d-249b-434b-a9e0-2dc18aab9273",
   "metadata": {},
   "outputs": [
    {
     "name": "stdout",
     "output_type": "stream",
     "text": [
      "<class 'pandas.core.frame.DataFrame'>\n",
      "RangeIndex: 156422 entries, 0 to 156421\n",
      "Data columns (total 6 columns):\n",
      " #   Column      Non-Null Count   Dtype  \n",
      "---  ------      --------------   -----  \n",
      " 0   spotify_id  156422 non-null  object \n",
      " 1   name        156418 non-null  object \n",
      " 2   followers   156418 non-null  float64\n",
      " 3   popularity  156422 non-null  int64  \n",
      " 4   genres      156422 non-null  object \n",
      " 5   chart_hits  19641 non-null   object \n",
      "dtypes: float64(1), int64(1), object(4)\n",
      "memory usage: 7.2+ MB\n",
      "None\n"
     ]
    }
   ],
   "source": [
    "s_path = os.path.join(current_path, \"../../raw_data/shivam/raw_data/nodes.csv\")\n",
    "nodes_df = pd.read_csv(s_path)\n",
    "print(nodes_df.info())"
   ]
  },
  {
   "cell_type": "code",
   "execution_count": 15,
   "id": "e24d0cb4-f717-45cc-afc4-65e5839aaa9c",
   "metadata": {},
   "outputs": [
    {
     "name": "stdout",
     "output_type": "stream",
     "text": [
      "<class 'pandas.core.frame.DataFrame'>\n",
      "RangeIndex: 944165 entries, 0 to 944164\n",
      "Data columns (total 33 columns):\n",
      " #   Column              Non-Null Count   Dtype  \n",
      "---  ------              --------------   -----  \n",
      " 0   spotify_id_x        944165 non-null  object \n",
      " 1   name_x              944053 non-null  object \n",
      " 2   artists             944053 non-null  object \n",
      " 3   daily_rank          944165 non-null  int64  \n",
      " 4   daily_movement      944165 non-null  int64  \n",
      " 5   weekly_movement     944165 non-null  int64  \n",
      " 6   country             929704 non-null  object \n",
      " 7   snapshot_date       944165 non-null  object \n",
      " 8   popularity_x        944165 non-null  int64  \n",
      " 9   is_explicit         944165 non-null  bool   \n",
      " 10  duration_ms         944165 non-null  int64  \n",
      " 11  album_name          943407 non-null  object \n",
      " 12  album_release_date  943569 non-null  object \n",
      " 13  danceability        944165 non-null  float64\n",
      " 14  energy              944165 non-null  float64\n",
      " 15  key                 944165 non-null  int64  \n",
      " 16  loudness            944165 non-null  float64\n",
      " 17  mode                944165 non-null  int64  \n",
      " 18  speechiness         944165 non-null  float64\n",
      " 19  acousticness        944165 non-null  float64\n",
      " 20  instrumentalness    944165 non-null  float64\n",
      " 21  liveness            944165 non-null  float64\n",
      " 22  valence             944165 non-null  float64\n",
      " 23  tempo               944165 non-null  float64\n",
      " 24  time_signature      944165 non-null  int64  \n",
      " 25  artists_clean       944053 non-null  object \n",
      " 26  spotify_id_y        944165 non-null  object \n",
      " 27  name_y              944053 non-null  object \n",
      " 28  followers           944165 non-null  float64\n",
      " 29  popularity_y        944165 non-null  int64  \n",
      " 30  genres              944165 non-null  object \n",
      " 31  chart_hits          709501 non-null  object \n",
      " 32  name_clean          944053 non-null  object \n",
      "dtypes: bool(1), float64(10), int64(9), object(13)\n",
      "memory usage: 231.4+ MB\n",
      "None\n"
     ]
    }
   ],
   "source": [
    "sen_df = sentiment_dataframes['universal_top_spotify_songs.csv']\n",
    "sen_df['artists_clean'] = sen_df['artists'].str.lower().str.strip()\n",
    "nodes_df['name_clean'] = nodes_df['name'].str.lower().str.strip()\n",
    "merged_df = pd.merge(sen_df,nodes_df,left_on='artists_clean',right_on='name_clean',how='inner')\n",
    "print(merged_df.info())"
   ]
  },
  {
   "cell_type": "code",
   "execution_count": 16,
   "id": "3c6ea38b-700c-4dd1-871e-cb089ececb0e",
   "metadata": {},
   "outputs": [
    {
     "name": "stdout",
     "output_type": "stream",
     "text": [
      "Processed DataFrame Info:\n",
      "<class 'pandas.core.frame.DataFrame'>\n",
      "RangeIndex: 944165 entries, 0 to 944164\n",
      "Data columns (total 25 columns):\n",
      " #   Column              Non-Null Count   Dtype  \n",
      "---  ------              --------------   -----  \n",
      " 0   songs               944053 non-null  object \n",
      " 1   artists             944053 non-null  object \n",
      " 2   daily_rank          944165 non-null  int64  \n",
      " 3   daily_movement      944165 non-null  int64  \n",
      " 4   weekly_movement     944165 non-null  int64  \n",
      " 5   country             929704 non-null  object \n",
      " 6   snapshot_date       944165 non-null  object \n",
      " 7   song_popularity     944165 non-null  int64  \n",
      " 8   album_name          943407 non-null  object \n",
      " 9   album_release_date  943569 non-null  object \n",
      " 10  danceability        944165 non-null  float64\n",
      " 11  energy              944165 non-null  float64\n",
      " 12  key                 944165 non-null  int64  \n",
      " 13  loudness            944165 non-null  float64\n",
      " 14  mode                944165 non-null  int64  \n",
      " 15  speechiness         944165 non-null  float64\n",
      " 16  acousticness        944165 non-null  float64\n",
      " 17  instrumentalness    944165 non-null  float64\n",
      " 18  liveness            944165 non-null  float64\n",
      " 19  valence             944165 non-null  float64\n",
      " 20  tempo               944165 non-null  float64\n",
      " 21  followers           944165 non-null  float64\n",
      " 22  artist_popularity   944165 non-null  int64  \n",
      " 23  genres              944165 non-null  object \n",
      " 24  chart_hits          709501 non-null  object \n",
      "dtypes: float64(10), int64(7), object(8)\n",
      "memory usage: 180.1+ MB\n",
      "None\n"
     ]
    }
   ],
   "source": [
    "columns_to_drop = [\n",
    "    \"spotify_id_x\", \"is_explicit\", \"duration_ms\", \"time_signature\",\n",
    "    \"artists_clean\", \"spotify_id_y\", \"name_y\", \"name_clean\"\n",
    "]\n",
    "processed_df = merged_df.drop(columns=columns_to_drop)\n",
    "\n",
    "columns_to_rename = {\n",
    "    \"name_x\": \"songs\",\n",
    "    \"popularity_x\": \"song_popularity\",\n",
    "    \"popularity_y\": \"artist_popularity\"\n",
    "}\n",
    "processed_df = processed_df.rename(columns=columns_to_rename)\n",
    "\n",
    "\n",
    "print(\"Processed DataFrame Info:\")\n",
    "print(processed_df.info())"
   ]
  },
  {
   "cell_type": "code",
   "execution_count": 21,
   "id": "c6b2aeb0-f0d3-4b92-8939-b905204715f5",
   "metadata": {},
   "outputs": [],
   "source": [
    "c_path = os.path.join(os.getcwd(), \"../../raw_data/camille/\")\n",
    "processed_df.to_csv(os.path.join(c_path,\"top_spotify_songs\"), index=False)"
   ]
  },
  {
   "cell_type": "code",
   "execution_count": 23,
   "id": "c688e77d-ad42-484d-9e9f-0f4d17a6dce4",
   "metadata": {},
   "outputs": [
    {
     "name": "stdout",
     "output_type": "stream",
     "text": [
      "Deduplicated DataFrame Info:\n",
      "<class 'pandas.core.frame.DataFrame'>\n",
      "Index: 7477 entries, 940086 to 0\n",
      "Data columns (total 25 columns):\n",
      " #   Column              Non-Null Count  Dtype         \n",
      "---  ------              --------------  -----         \n",
      " 0   songs               7476 non-null   object        \n",
      " 1   artists             7476 non-null   object        \n",
      " 2   daily_rank          7477 non-null   int64         \n",
      " 3   daily_movement      7477 non-null   int64         \n",
      " 4   weekly_movement     7477 non-null   int64         \n",
      " 5   country             7474 non-null   object        \n",
      " 6   snapshot_date       7477 non-null   datetime64[ns]\n",
      " 7   song_popularity     7477 non-null   int64         \n",
      " 8   album_name          7471 non-null   object        \n",
      " 9   album_release_date  7472 non-null   object        \n",
      " 10  danceability        7477 non-null   float64       \n",
      " 11  energy              7477 non-null   float64       \n",
      " 12  key                 7477 non-null   int64         \n",
      " 13  loudness            7477 non-null   float64       \n",
      " 14  mode                7477 non-null   int64         \n",
      " 15  speechiness         7477 non-null   float64       \n",
      " 16  acousticness        7477 non-null   float64       \n",
      " 17  instrumentalness    7477 non-null   float64       \n",
      " 18  liveness            7477 non-null   float64       \n",
      " 19  valence             7477 non-null   float64       \n",
      " 20  tempo               7477 non-null   float64       \n",
      " 21  followers           7477 non-null   float64       \n",
      " 22  artist_popularity   7477 non-null   int64         \n",
      " 23  genres              7477 non-null   object        \n",
      " 24  chart_hits          6392 non-null   object        \n",
      "dtypes: datetime64[ns](1), float64(10), int64(7), object(7)\n",
      "memory usage: 1.5+ MB\n",
      "None\n"
     ]
    }
   ],
   "source": [
    "processed_df['snapshot_date'] = pd.to_datetime(processed_df['snapshot_date'], errors='coerce')\n",
    "deduplicated_df = processed_df.sort_values('snapshot_date').drop_duplicates(subset=['songs', 'artists'], keep='last')\n",
    "\n",
    "print(\"Deduplicated DataFrame Info:\")\n",
    "print(deduplicated_df.info())"
   ]
  },
  {
   "cell_type": "code",
   "execution_count": 24,
   "id": "9e3f026f-1f00-4f16-8ef5-502e7307b50e",
   "metadata": {},
   "outputs": [],
   "source": [
    "c_path = os.path.join(os.getcwd(), \"../../raw_data/camille/\")\n",
    "deduplicated_df.to_csv(os.path.join(c_path,\"top_spotify_songs\"), index=False)"
   ]
  },
  {
   "cell_type": "code",
   "execution_count": null,
   "id": "647de861-5631-40b8-a491-a5acddc9179e",
   "metadata": {},
   "outputs": [],
   "source": []
  }
 ],
 "metadata": {
  "kernelspec": {
   "display_name": "Python 3 (ipykernel)",
   "language": "python",
   "name": "python3"
  },
  "language_info": {
   "codemirror_mode": {
    "name": "ipython",
    "version": 3
   },
   "file_extension": ".py",
   "mimetype": "text/x-python",
   "name": "python",
   "nbconvert_exporter": "python",
   "pygments_lexer": "ipython3",
   "version": "3.12.7"
  }
 },
 "nbformat": 4,
 "nbformat_minor": 5
}
