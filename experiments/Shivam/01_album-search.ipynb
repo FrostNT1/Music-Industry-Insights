{
 "cells": [
  {
   "cell_type": "code",
   "execution_count": 1,
   "metadata": {},
   "outputs": [],
   "source": [
    "import os\n",
    "import spotipy\n",
    "from spotipy.oauth2 import SpotifyClientCredentials\n",
    "from fuzzywuzzy import fuzz\n",
    "\n",
    "from dotenv import load_dotenv\n",
    "\n",
    "load_dotenv()\n",
    "\n",
    "# Get credentials from environment variables\n",
    "client_id = os.getenv('SPOTIFY_CLIENT_ID')\n",
    "client_secret = os.getenv('SPOTIFY_CLIENT_SECRET')"
   ]
  },
  {
   "cell_type": "code",
   "execution_count": 2,
   "metadata": {},
   "outputs": [],
   "source": [
    "def find_song_album(song_name, artist_name):\n",
    "    \"\"\"\n",
    "    Finds the best matching song and album for a given song name and artist name using Spotify's API.\n",
    "\n",
    "    Parameters:\n",
    "    - song_name (str): The name of the song to search for.\n",
    "    - artist_name (str): The name of the artist to search for.\n",
    "    - client_id (str): Spotify API client ID.\n",
    "    - client_secret (str): Spotify API client secret.\n",
    "\n",
    "    Returns:\n",
    "    - dict: A dictionary containing the best match's song name, artist name, album name, release date, and match score.\n",
    "    - None: If no match is found with a score above the threshold.\n",
    "    \"\"\"\n",
    "    \n",
    "    # Initialize Spotify client with provided credentials\n",
    "    client_credentials_manager = SpotifyClientCredentials(\n",
    "        client_id=client_id,\n",
    "        client_secret=client_secret\n",
    "    )\n",
    "    sp = spotipy.Spotify(client_credentials_manager=client_credentials_manager)\n",
    "    \n",
    "    # Construct the search query for Spotify API\n",
    "    query = f\"track:{song_name} artist:{artist_name}\"\n",
    "    # Perform the search with a limit of 50 results\n",
    "    results = sp.search(q=query, type='track', limit=50)\n",
    "    \n",
    "    best_match = None\n",
    "    highest_score = 0\n",
    "    \n",
    "    # Iterate over each track in the search results\n",
    "    for track in results['tracks']['items']:\n",
    "        # Calculate the similarity score for the song name\n",
    "        song_score = fuzz.ratio(song_name.lower(), track['name'].lower())\n",
    "        # Calculate the similarity score for the artist name\n",
    "        artist_score = fuzz.ratio(artist_name.lower(), track['artists'][0]['name'].lower())\n",
    "        \n",
    "        # Calculate a combined score with weighted contributions from song and artist scores\n",
    "        combined_score = (song_score * 0.6) + (artist_score * 0.4)\n",
    "        \n",
    "        # Update the best match if the current track has a higher combined score\n",
    "        if combined_score > highest_score:\n",
    "            highest_score = combined_score\n",
    "            best_match = track\n",
    "    \n",
    "    # Check if a suitable match was found with a score above the threshold\n",
    "    if best_match and highest_score > 70:  # Threshold for considering a match\n",
    "        return {\n",
    "            'song': best_match['name'],\n",
    "            'artist': best_match['artists'][0]['name'],\n",
    "            'album': best_match['album']['name'],\n",
    "            'release_date': best_match['album']['release_date'],\n",
    "            'match_score': highest_score\n",
    "        }\n",
    "    else:\n",
    "        # Return None if no match meets the threshold criteria\n",
    "        return None"
   ]
  },
  {
   "cell_type": "code",
   "execution_count": 3,
   "metadata": {},
   "outputs": [
    {
     "data": {
      "text/plain": [
       "{'song': 'The Seed',\n",
       " 'artist': 'AURORA',\n",
       " 'album': 'A Different Kind Of Human (Step II)',\n",
       " 'release_date': '2019-06-07',\n",
       " 'match_score': 80.19999999999999}"
      ]
     },
     "execution_count": 3,
     "metadata": {},
     "output_type": "execute_result"
    }
   ],
   "source": [
    "result = find_song_album(\"Seed\", \"AURORA\")\n",
    "result\n"
   ]
  },
  {
   "cell_type": "code",
   "execution_count": null,
   "metadata": {},
   "outputs": [],
   "source": []
  }
 ],
 "metadata": {
  "kernelspec": {
   "display_name": "music-insights",
   "language": "python",
   "name": "python3"
  },
  "language_info": {
   "codemirror_mode": {
    "name": "ipython",
    "version": 3
   },
   "file_extension": ".py",
   "mimetype": "text/x-python",
   "name": "python",
   "nbconvert_exporter": "python",
   "pygments_lexer": "ipython3",
   "version": "3.12.7"
  }
 },
 "nbformat": 4,
 "nbformat_minor": 2
}
