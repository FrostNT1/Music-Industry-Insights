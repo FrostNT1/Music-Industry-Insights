{
 "cells": [
  {
   "cell_type": "code",
   "execution_count": null,
   "metadata": {},
   "outputs": [],
   "source": [
    "print('Hello world! Exploratory Data Analysis is fun!')"
   ]
  }
 ],
 "metadata": {
  "kernelspec": {
   "display_name": "music-insights",
   "language": "python",
   "name": "python3"
  },
  "language_info": {
   "name": "python",
   "version": "3.12.7"
  }
 },
 "nbformat": 4,
 "nbformat_minor": 2
}
